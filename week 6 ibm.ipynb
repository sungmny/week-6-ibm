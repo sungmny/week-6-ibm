{
 "cells": [
  {
   "cell_type": "markdown",
   "id": "95643612-5a96-49c8-a65e-c11b5e4f767b",
   "metadata": {},
   "source": [
    "# Data science Tools and Ecosystem"
   ]
  },
  {
   "cell_type": "markdown",
   "id": "061091b4-cf42-419f-9c23-9aad552efff5",
   "metadata": {},
   "source": [
    "In this notebook, Data Science Tools and Ecosystem are Summarized."
   ]
  },
  {
   "cell_type": "markdown",
   "id": "b1157e0f-980e-4716-a36b-fa31b8c99905",
   "metadata": {},
   "source": [
    "Some of the popular languages that Data Scientist use are:\n",
    "1. Python\n",
    "2. SQL\n",
    "3. R Programming"
   ]
  },
  {
   "cell_type": "markdown",
   "id": "147708fc-3a0c-40c0-8630-f704184f30cb",
   "metadata": {},
   "source": [
    "Some of the common libraries used by Data Scientists include:\n",
    "1. plotly\n",
    "2. matplotlib\n",
    "3. ggplot"
   ]
  },
  {
   "cell_type": "markdown",
   "id": "c70d5ba2-eb43-4213-bb7e-cc3037c1306e",
   "metadata": {},
   "source": [
    "| |Data Science Tools| |\n",
    "| --- | --- | --- |\n",
    "|RStudio|Apache Spark|TensorFlow|"
   ]
  },
  {
   "cell_type": "markdown",
   "id": "0a5a1f9f-2917-4b7a-bdda-20b9338c153b",
   "metadata": {},
   "source": [
    "### Below are a few examples of evaluating arithmetic expressions in Python."
   ]
  },
  {
   "cell_type": "code",
   "execution_count": 4,
   "id": "f5439b9c-953a-41e6-a7ac-c5543d971182",
   "metadata": {},
   "outputs": [
    {
     "data": {
      "text/plain": [
       "17"
      ]
     },
     "execution_count": 4,
     "metadata": {},
     "output_type": "execute_result"
    }
   ],
   "source": [
    "#This is a simple arithmetic expression to multiply then add integers\n",
    "(3*4)+5"
   ]
  },
  {
   "cell_type": "code",
   "execution_count": 8,
   "id": "1e3fd7ce-62c0-48ea-8b5e-b4fa99ceb224",
   "metadata": {},
   "outputs": [
    {
     "name": "stdout",
     "output_type": "stream",
     "text": [
      "3.3333333333333335\n"
     ]
    }
   ],
   "source": [
    "#This will convert 200 minutes to hours by dividing by 60\n",
    "minutes=200\n",
    "hours=minutes/60\n",
    "print(hours)"
   ]
  },
  {
   "cell_type": "markdown",
   "id": "2b63ee82-abb1-42f9-afb1-dcbceb51cd3d",
   "metadata": {},
   "source": [
    "*Objectives:*\n",
    "- Learn to use Markdown\n",
    "- Learn to make lists\n",
    "- Learn how to make tables\n",
    "- Learn coding calcuations\n",
    "- Learn how to bold fonts"
   ]
  },
  {
   "cell_type": "markdown",
   "id": "59f1f016-50a2-4772-ad97-c02e07a83640",
   "metadata": {},
   "source": [
    "## Author\n",
    "Phillip"
   ]
  },
  {
   "cell_type": "code",
   "execution_count": null,
   "id": "9be4c776-1687-4853-80d7-26ee5eed72e8",
   "metadata": {},
   "outputs": [],
   "source": []
  }
 ],
 "metadata": {
  "kernelspec": {
   "display_name": "Python 3 (ipykernel)",
   "language": "python",
   "name": "python3"
  },
  "language_info": {
   "codemirror_mode": {
    "name": "ipython",
    "version": 3
   },
   "file_extension": ".py",
   "mimetype": "text/x-python",
   "name": "python",
   "nbconvert_exporter": "python",
   "pygments_lexer": "ipython3",
   "version": "3.11.3"
  }
 },
 "nbformat": 4,
 "nbformat_minor": 5
}
